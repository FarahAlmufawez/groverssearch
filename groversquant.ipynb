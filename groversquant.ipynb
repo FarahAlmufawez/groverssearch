{
 "cells": [
  {
   "cell_type": "markdown",
   "id": "6133aa0d",
   "metadata": {},
   "source": [
    "# PHY5001 Assessment 2\n",
    "##  Grover's algorithm \n",
    "\n",
    "This is the Jupyter Notebook which accompanies the pdf guide for Assignment 2, which focuses on Grover's Algorithm. Be advised that you should read the pdf as well, as there are questions which you will need to answer.\n",
    "\n",
    "### Table of Contents\n",
    "This hyperlinked table of contents may help reduce how much scrolling around you need to do to find the appropriate cells\n",
    "\n",
    "- [Task 2: Selector](#Task2_cell)\n",
    "    - [(a) GateSwitch](#Task2a_cell)\n",
    "    - [(b) SelectorSix](#Task2b_cell)\n",
    "\n",
    "    \n",
    "- [Task 3: Amplifier](#Task3_cell)\n",
    "\n",
    "\n",
    "- [Task 4: Putting together Grover's algorithm](#Task4_cell)\n",
    "\n",
    "\n",
    "- [Task 5: Comparison of classical and quantum search](#Task5_cell)\n",
    "    - [(a) RandomiseSix](#Task5a_cell)\n",
    "    - [(b) Plotting comparison](#Task5Plot_cell)\n",
    "    \n",
    "    \n",
    "- [Testing Functions](#Testing)\n",
    "    - [Task 2 Testing](#Task2T_cell)\n",
    "    - [Task 3 Testing](#Task3T_cell)\n",
    "    - [Task 4 Testing](#Task4T_cell)\n",
    "    - [Task 5 Testing](#Task5T_cell)"
   ]
  },
  {
   "cell_type": "markdown",
   "id": "c63b2b9b",
   "metadata": {},
   "source": [
    "## Housekeeping\n",
    "The cells below will import the appropriate packages you need for this assignment, assuming they are installed, and apply particular configuration settings for `DumpMachine`. You will need to run these cells each time you open this file to start work, as without them your functions below will not run as intended. "
   ]
  },
  {
   "cell_type": "code",
   "execution_count": 7,
   "id": "5c3d99f8",
   "metadata": {},
   "outputs": [],
   "source": [
    "import qsharp\n",
    "import numpy as np\n",
    "import matplotlib.pyplot as plt"
   ]
  },
  {
   "cell_type": "code",
   "execution_count": 8,
   "id": "3217fbaf",
   "metadata": {
    "vscode": {
     "languageId": "qsharp"
    }
   },
   "outputs": [],
   "source": [
    "%%qsharp\n",
    "open Microsoft.Quantum.Diagnostics;"
   ]
  },
  {
   "cell_type": "code",
   "execution_count": 9,
   "id": "b37eb729",
   "metadata": {},
   "outputs": [],
   "source": [
    "%config dump.basisStateLabelingConvention=\"BitString\" \n",
    "%config dump.phaseDisplayStyle=\"NumberOnly\""
   ]
  },
  {
   "cell_type": "code",
   "execution_count": 10,
   "id": "893a8e33",
   "metadata": {},
   "outputs": [],
   "source": [
    "subscription_id = 'aa30f5b0-4da3-44b5-adaf-8b08b49065a9'\n",
    "resource_group = 'AzureQuantum'\n",
    "workspace_name = 'quantum-assignment'\n",
    "location = 'East US'"
   ]
  },
  {
   "cell_type": "code",
   "execution_count": 11,
   "id": "32946399",
   "metadata": {},
   "outputs": [
    {
     "data": {
      "application/x.qsharp-config": "{\"targetProfile\":\"base\",\"languageFeatures\":null,\"manifest\":null}",
      "text/plain": [
       "Q# initialized with configuration: {'targetProfile': 'base', 'languageFeatures': None, 'manifest': None}"
      ]
     },
     "execution_count": 11,
     "metadata": {},
     "output_type": "execute_result"
    }
   ],
   "source": [
    "import qsharp\n",
    "\n",
    "qsharp.init(target_profile=qsharp.TargetProfile.Base)"
   ]
  },
  {
   "cell_type": "markdown",
   "id": "d3c8003e",
   "metadata": {},
   "source": [
    "## Task 2: Selector\n",
    "\n",
    "<a id='Task2_cell'></a>\n",
    "\n",
    "In this task, you will write code to set up the **Selector** component of Grover's algorithm. You will need to write two functions to build this Selector:\n",
    " - A function **GateSwitch** which applies Pauli-X gates to qubits in a 6 qubit array, using a Boolean array input to configure which qubits will be modified by the Pauli-X gates\n",
    " - A function **SelectorSix** which takes a 6 qubit array input and:\n",
    "   - applies GateSwitch\n",
    "   - applies a controlled-Z gate to the entire array, with the 6th qubit in the array being the target\n",
    "   - applies GateSwitch again\n"
   ]
  },
  {
   "cell_type": "markdown",
   "id": "53aec642",
   "metadata": {},
   "source": [
    "<a id='Task2a_cell'></a>\n",
    "In the cell below, write your code for **GateSwitch**.\n",
    "\n",
    "*Hint: You will likely need to include a `for` loop and an `if` condition to make this work.*"
   ]
  },
  {
   "cell_type": "code",
   "execution_count": 12,
   "id": "75aaf72a",
   "metadata": {
    "vscode": {
     "languageId": "qsharp"
    }
   },
   "outputs": [],
   "source": [
    "%%qsharp\n",
    "operation GateSwitch(target: Qubit[], pattern: Bool[]) : Unit {\n",
    "    // loop through each qubit and apply Puli-X gate if paterrn is true\n",
    "    for i in 0..5 {\n",
    "        if (pattern[i]){\n",
    "            X(target[i]);\n",
    "        }\n",
    "    }\n",
    "    \n",
    "}"
   ]
  },
  {
   "cell_type": "markdown",
   "id": "241df008",
   "metadata": {},
   "source": [
    "<a id='Task2b_cell'></a>\n",
    "In the cell below, write your code for **SelectorSix**.\n",
    "\n",
    "*Hint: Remember to use indices to indicate which qubit in the array you are referring to.*"
   ]
  },
  {
   "cell_type": "code",
   "execution_count": 13,
   "id": "1df183b7",
   "metadata": {
    "vscode": {
     "languageId": "qsharp"
    }
   },
   "outputs": [],
   "source": [
    "%%qsharp\n",
    "operation SelectorSix(target: Qubit[], pattern: Bool[]) : Unit {\n",
    "    //step 1 : apply Gateswich which represent puli-X\n",
    "    GateSwitch(target,pattern);\n",
    "    //step 2 : apply controlled z in all qubit controlling tha last one \n",
    "    Controlled Z(target[0..4],target[5]);\n",
    "    //step 3 : apply Gateswich to get the orginal state\n",
    "    GateSwitch(target,pattern)\n",
    "    \n",
    "}"
   ]
  },
  {
   "cell_type": "markdown",
   "id": "1ee94290",
   "metadata": {},
   "source": [
    "## Task 3: Amplifier\n",
    "\n",
    "<a id='Task3_cell'></a>\n",
    "\n",
    "In this task, you will write code to set up the **Amplifier** component of Grover's algorithm. You will need to write one function to build this Amplifier:\n",
    " - A function **AmplifySix** which applies which applies the appropriate gates to a 6 qubit array, with the target of the controlled-Z gate being the 6th qubit in the array.\n",
    " \n",
    " \n",
    "In the cell below, write your code for **AmplifySix**\n",
    "\n",
    "*Hint: Remember to use indices to indicate which qubit in the array you are referring to. In Workshops you have seen the tools needed for at least 3 different approaches to writing AmplifySix - you may find it useful to use two `for` loops for part of this, but do not have to use any*"
   ]
  },
  {
   "cell_type": "code",
   "execution_count": 14,
   "id": "3f0b6be1",
   "metadata": {
    "vscode": {
     "languageId": "qsharp"
    }
   },
   "outputs": [],
   "source": [
    "%%qsharp\n",
    "operation AmplifySix(target: Qubit[]) : Unit {\n",
    " // step 1 : apply hadamard and puli-x gate to each qubit \n",
    "   for i in 0..5 {\n",
    "    H(target[i]);\n",
    "    X(target[i]);\n",
    "   }\n",
    "\n",
    " // step 2 : apply controlled-Z with the last qubit as the target\n",
    "   Controlled Z(target[0..4],target[5]);\n",
    "\n",
    " // step 4 : apply puli-x and hadamard gate to each qubit \n",
    "   for i in 0..5 {\n",
    "    X(target[i]);\n",
    "    H(target[i]);\n",
    "   }\n",
    " \n",
    "}"
   ]
  },
  {
   "cell_type": "markdown",
   "id": "83910570",
   "metadata": {},
   "source": [
    "<a id='Task4_cell'></a>\n",
    "## Task 4: Putting together Grover's algorithm\n",
    "\n",
    "In this task, you will write:\n",
    "- A function **SixQGroverIteration** which will apply SelectorSix and AmplifySix as required for a single iteration of Grover's algorithm\n",
    "- A function **SixQGrovers** which will apply SixQGroverIteration multiple times in a row, as determined by an input `repeats`"
   ]
  },
  {
   "cell_type": "markdown",
   "id": "2c97b248",
   "metadata": {},
   "source": [
    "<a id='Task4a_cell'></a>\n",
    "In the cell below, write your code for **SixQGroverIteration**."
   ]
  },
  {
   "cell_type": "code",
   "execution_count": 15,
   "id": "75cc4647",
   "metadata": {
    "vscode": {
     "languageId": "qsharp"
    }
   },
   "outputs": [],
   "source": [
    "%%qsharp\n",
    "operation SixQGroverIteration(target: Qubit[], pattern: Bool[]) : Unit {\n",
    "    // step 1: apply the selector to select the targe state \n",
    "    SelectorSix(target,pattern);\n",
    "    \n",
    "    // step 2 : apply the amplifier to boost the probability of the slected state \n",
    "    AmplifySix(target);\n",
    "\n",
    "    \n",
    "        \n",
    "}"
   ]
  },
  {
   "cell_type": "markdown",
   "id": "9ae49359",
   "metadata": {},
   "source": [
    "In the cell below, write your code for **SixQGrovers**\n",
    "\n",
    "*Hint: One way to approach this is to write a `for` loop which will apply **SixQGroverIteration** on each repeat*"
   ]
  },
  {
   "cell_type": "code",
   "execution_count": 16,
   "id": "8281d097",
   "metadata": {
    "vscode": {
     "languageId": "qsharp"
    }
   },
   "outputs": [],
   "source": [
    "%%qsharp\n",
    "operation SixQGrovers(target: Qubit[], pattern: Bool[], repeats: Int) : Unit {\n",
    "    // This operation performs multiple iterations a 6-qubit array.\n",
    "\n",
    "    for i in 0..repeats-1{\n",
    "        SixQGroverIteration(target,pattern);\n",
    "    }\n",
    "       \n",
    "    \n",
    "}"
   ]
  },
  {
   "cell_type": "markdown",
   "id": "a63a1b31",
   "metadata": {},
   "source": [
    "<a id='Task5_cell'></a>\n",
    "## Task 5: Comparison of classical and quantum search\n",
    "\n",
    "Now that we have a function that performs a single iteration of Grover's algorithm, let's work towards comparing the performance of quantum search against classical search. To do so, you will need to write:\n",
    "- A function **RandomiseSix**, which should use Hadamard gates on all 6 qubits in a 6 qubit input to create a completely randomised quantum superposition, in order to allow a fair test of the algorithm\n",
    "- Plotting code for comparing the performance of classical and quantum search algorithms\n"
   ]
  },
  {
   "cell_type": "markdown",
   "id": "fa3f5653",
   "metadata": {},
   "source": [
    "<a id='Task5a_cell'></a>\n",
    "In the cell below, write your code for **RandomiseSix**.\n",
    "\n",
    "*Hint: Remember to use indices to indicate which qubit in the array you are referring to.*"
   ]
  },
  {
   "cell_type": "code",
   "execution_count": 17,
   "id": "d72492f7",
   "metadata": {
    "vscode": {
     "languageId": "qsharp"
    }
   },
   "outputs": [],
   "source": [
    "%%qsharp\n",
    "operation RandomiseSix(target: Qubit[]) : Unit {\n",
    "\n",
    "    for X in 0..5 {\n",
    "      H(target[X])     \n",
    "    } \n",
    "    \n",
    "}"
   ]
  },
  {
   "cell_type": "markdown",
   "id": "976b583c",
   "metadata": {},
   "source": [
    "The cell below contains a function which will combine your RandomiseSix with your SixQGrovers. This will allow you to simulate the action of Grover's algorithm for searching. Assuming you have checked that your functions above work correctly, this should not need any adjustments in order to run. "
   ]
  },
  {
   "cell_type": "code",
   "execution_count": 18,
   "id": "59612aa7",
   "metadata": {
    "vscode": {
     "languageId": "qsharp"
    }
   },
   "outputs": [],
   "source": [
    "%%qsharp\n",
    "operation SixGroverRun(repeats: Int, pattern: Bool[]) : Result[] {\n",
    "    use q = Qubit[6];\n",
    "    RandomiseSix(q);\n",
    "    SixQGrovers(q, pattern, repeats);\n",
    " return (MResetEachZ(q));\n",
    "       \n",
    "}"
   ]
  },
  {
   "cell_type": "markdown",
   "id": "25046121",
   "metadata": {},
   "source": [
    "In the cell below:\n",
    "- run a single iteration (eg. repeats = 1) of SixGroverRun for any 6 qubit Boolean pattern you choose - this will be fed into the selector. \n",
    "- Make note of the probability of measuring the state you have set the selector for.\n",
    "\n",
    "Repeat the above, increasing the number of repeats from 1 to 20 in steps of 1, recording the probability of measuring the state you have selected at each point.\n",
    "\n",
    "*Note: You may notice that the probability changes in an unexpected manner after 6 repeats - this is not an error!*"
   ]
  },
  {
   "cell_type": "markdown",
   "id": "68dca9d8",
   "metadata": {},
   "source": [
    " after apllying the it in Quirk i gort thiese results---> the selector marked the state 010111, and the amplifier boosted its probability to 13.4827%, while other states remained at 1.3733%, confirming the correct state was amplified."
   ]
  },
  {
   "cell_type": "code",
   "execution_count": 19,
   "id": "033b0466",
   "metadata": {
    "vscode": {
     "languageId": "qsharp"
    }
   },
   "outputs": [
    {
     "data": {
      "text/plain": [
       "[One, Zero, Zero, Zero, One, Zero]"
      ]
     },
     "execution_count": 19,
     "metadata": {},
     "output_type": "execute_result"
    }
   ],
   "source": [
    "%%qsharp\n",
    "\n",
    "// Example: Call SixGroverRun with 2 repeats and pattern 101010:\n",
    "SixGroverRun(1, [true,false,true,false,true,false])\n",
    "\n"
   ]
  },
  {
   "cell_type": "code",
   "execution_count": null,
   "id": "02b558a7",
   "metadata": {},
   "outputs": [
    {
     "name": "stdout",
     "output_type": "stream",
     "text": [
      "................"
     ]
    },
    {
     "data": {
      "text/plain": [
       "{'[0, 0, 0, 0, 0, 1]': 0.1,\n",
       " '[1, 1, 0, 1, 0, 1]': 0.2,\n",
       " '[0, 0, 0, 1, 0, 1]': 0.1,\n",
       " '[0, 1, 1, 0, 0, 1]': 0.1,\n",
       " '[1, 1, 1, 1, 0, 1]': 0.1,\n",
       " '[0, 1, 0, 0, 0, 1]': 0.1,\n",
       " '[1, 1, 0, 1, 0, 0]': 0.1,\n",
       " '[1, 1, 1, 1, 1, 1]': 0.1,\n",
       " '[1, 0, 0, 1, 0, 1]': 0.1}"
      ]
     },
     "execution_count": 22,
     "metadata": {},
     "output_type": "execute_result"
    }
   ],
   "source": [
    "import azure.quantum\n",
    "\n",
    "operation = qsharp.compile(\"SixGroverRun(6, [true,false,true,false,true,false])\")\n",
    "\n",
    "workspace = azure.quantum.Workspace(\n",
    "    subscription_id=subscription_id,\n",
    "    resource_group=resource_group,\n",
    "    name=workspace_name,\n",
    "    location=location,\n",
    ")\n",
    "target = workspace.get_targets(\"quantinuum.sim.h1-1e\")\n",
    "job = target.submit(operation, \"my-azure-quantum-job\", shots=10 )\n",
    "job.get_results()"
   ]
  }
 ],
 "metadata": {
  "kernelspec": {
   "display_name": "mqit_kernel",
   "language": "python",
   "name": "mqit_kernel"
  },
  "language_info": {
   "codemirror_mode": {
    "name": "ipython",
    "version": 3
   },
   "file_extension": ".py",
   "mimetype": "text/x-python",
   "name": "python",
   "nbconvert_exporter": "python",
   "pygments_lexer": "ipython3",
   "version": "3.9.5"
  }
 },
 "nbformat": 4,
 "nbformat_minor": 5
}
