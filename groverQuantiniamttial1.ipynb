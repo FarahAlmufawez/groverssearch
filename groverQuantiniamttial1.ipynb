{
 "cells": [
  {
   "cell_type": "code",
   "execution_count": 1,
   "id": "714323be",
   "metadata": {},
   "outputs": [],
   "source": [
    "subscription_id = 'aa30f5b0-4da3-44b5-adaf-8b08b49065a9'\n",
    "resource_group = 'AzureQuantum'\n",
    "workspace_name = 'quantum-assignment'\n",
    "location = 'East US'"
   ]
  },
  {
   "cell_type": "code",
   "execution_count": 2,
   "id": "67525fea",
   "metadata": {},
   "outputs": [
    {
     "data": {
      "application/javascript": "// Copyright (c) Microsoft Corporation.\n// Licensed under the MIT License.\n\n// This file provides CodeMirror syntax highlighting for Q# magic cells\n// in classic Jupyter Notebooks. It does nothing in other (Jupyter Notebook 7,\n// VS Code, Azure Notebooks, etc.) environments.\n\n// Detect the prerequisites and do nothing if they don't exist.\nif (window.require && window.CodeMirror && window.Jupyter) {\n  // The simple mode plugin for CodeMirror is not loaded by default, so require it.\n  window.require([\"codemirror/addon/mode/simple\"], function defineMode() {\n    let rules = [\n      {\n        token: \"comment\",\n        regex: /(\\/\\/).*/,\n        beginWord: false,\n      },\n      {\n        token: \"string\",\n        regex: String.raw`^\\\"(?:[^\\\"\\\\]|\\\\[\\s\\S])*(?:\\\"|$)`,\n        beginWord: false,\n      },\n      {\n        token: \"keyword\",\n        regex: String.raw`(namespace|open|as|operation|function|body|adjoint|newtype|controlled|internal)\\b`,\n        beginWord: true,\n      },\n      {\n        token: \"keyword\",\n        regex: String.raw`(if|elif|else|repeat|until|fixup|for|in|return|fail|within|apply)\\b`,\n        beginWord: true,\n      },\n      {\n        token: \"keyword\",\n        regex: String.raw`(Adjoint|Controlled|Adj|Ctl|is|self|auto|distribute|invert|intrinsic)\\b`,\n        beginWord: true,\n      },\n      {\n        token: \"keyword\",\n        regex: String.raw`(let|set|use|borrow|mutable)\\b`,\n        beginWord: true,\n      },\n      {\n        token: \"operatorKeyword\",\n        regex: String.raw`(not|and|or)\\b|(w/)`,\n        beginWord: true,\n      },\n      {\n        token: \"operatorKeyword\",\n        regex: String.raw`(=)|(!)|(<)|(>)|(\\+)|(-)|(\\*)|(/)|(\\^)|(%)|(\\|)|(&&&)|(~~~)|(\\.\\.\\.)|(\\.\\.)|(\\?)`,\n        beginWord: false,\n      },\n      {\n        token: \"meta\",\n        regex: String.raw`(Int|BigInt|Double|Bool|Qubit|Pauli|Result|Range|String|Unit)\\b`,\n        beginWord: true,\n      },\n      {\n        token: \"atom\",\n        regex: String.raw`(true|false|Pauli(I|X|Y|Z)|One|Zero)\\b`,\n        beginWord: true,\n      },\n    ];\n    let simpleRules = [];\n    for (let rule of rules) {\n      simpleRules.push({\n        token: rule.token,\n        regex: new RegExp(rule.regex, \"g\"),\n        sol: rule.beginWord,\n      });\n      if (rule.beginWord) {\n        // Need an additional rule due to the fact that CodeMirror simple mode doesn't work with ^ token\n        simpleRules.push({\n          token: rule.token,\n          regex: new RegExp(String.raw`\\W` + rule.regex, \"g\"),\n          sol: false,\n        });\n      }\n    }\n\n    // Register the mode defined above with CodeMirror\n    window.CodeMirror.defineSimpleMode(\"qsharp\", { start: simpleRules });\n    window.CodeMirror.defineMIME(\"text/x-qsharp\", \"qsharp\");\n\n    // Tell Jupyter to associate %%qsharp magic cells with the qsharp mode\n    window.Jupyter.CodeCell.options_default.highlight_modes[\"qsharp\"] = {\n      reg: [/^%%qsharp/],\n    };\n\n    // Force re-highlighting of all cells the first time this code runs\n    for (const cell of window.Jupyter.notebook.get_cells()) {\n      cell.auto_highlight();\n    }\n  });\n}\n",
      "text/plain": []
     },
     "metadata": {},
     "output_type": "display_data"
    },
    {
     "data": {
      "application/x.qsharp-config": "{\"targetProfile\":\"base\",\"languageFeatures\":null,\"manifest\":null}",
      "text/plain": [
       "Q# initialized with configuration: {'targetProfile': 'base', 'languageFeatures': None, 'manifest': None}"
      ]
     },
     "execution_count": 2,
     "metadata": {},
     "output_type": "execute_result"
    }
   ],
   "source": [
    "\n",
    "import qsharp\n",
    "\n",
    "qsharp.init(target_profile=qsharp.TargetProfile.Base)"
   ]
  },
  {
   "cell_type": "code",
   "execution_count": 3,
   "id": "13987041",
   "metadata": {},
   "outputs": [],
   "source": [
    "with open(\"grovers.qs\", \"r\", encoding=\"utf-8\") as f:\n",
    "    contents = f.read()\n"
   ]
  },
  {
   "cell_type": "code",
   "execution_count": 4,
   "id": "d7650857",
   "metadata": {},
   "outputs": [
    {
     "ename": "QSharpError",
     "evalue": "Qsc.Resolve.NotFound\n\n  x name error\n  `-> `grovers.RunProgram` not found\n   ,-[<entry>:1:1]\n 1 | grovers.RunProgram()\n   : ^^^^^^^^^^^^^^^^^^\n   `----\nQsc.TypeCk.AmbiguousTy\n\n  x type error\n  `-> insufficient type information to infer type\n   ,-[<entry>:1:1]\n 1 | grovers.RunProgram()\n   : ^^^^^^^^^^^^^^^^^^^^\n   `----\n  help: provide a type annotation\n",
     "output_type": "error",
     "traceback": [
      "\u001b[1;31m---------------------------------------------------------------------------\u001b[0m",
      "\u001b[1;31mQSharpError\u001b[0m                               Traceback (most recent call last)",
      "Cell \u001b[1;32mIn[4], line 10\u001b[0m\n\u001b[0;32m      1\u001b[0m \u001b[38;5;28;01mimport\u001b[39;00m\u001b[38;5;250m \u001b[39m\u001b[38;5;21;01mazure\u001b[39;00m\u001b[38;5;21;01m.\u001b[39;00m\u001b[38;5;21;01mquantum\u001b[39;00m\n\u001b[0;32m      3\u001b[0m workspace \u001b[38;5;241m=\u001b[39m azure\u001b[38;5;241m.\u001b[39mquantum\u001b[38;5;241m.\u001b[39mWorkspace(\n\u001b[0;32m      4\u001b[0m     subscription_id\u001b[38;5;241m=\u001b[39msubscription_id,\n\u001b[0;32m      5\u001b[0m     resource_group\u001b[38;5;241m=\u001b[39mresource_group,\n\u001b[0;32m      6\u001b[0m     name\u001b[38;5;241m=\u001b[39mworkspace_name,\n\u001b[0;32m      7\u001b[0m     location\u001b[38;5;241m=\u001b[39mlocation,\n\u001b[0;32m      8\u001b[0m )\n\u001b[1;32m---> 10\u001b[0m operation \u001b[38;5;241m=\u001b[39m \u001b[43mqsharp\u001b[49m\u001b[38;5;241;43m.\u001b[39;49m\u001b[43mcompile\u001b[49m\u001b[43m(\u001b[49m\u001b[38;5;124;43m\"\u001b[39;49m\u001b[38;5;124;43mgrovers.RunProgram()\u001b[39;49m\u001b[38;5;124;43m\"\u001b[39;49m\u001b[43m)\u001b[49m\n\u001b[0;32m     12\u001b[0m target \u001b[38;5;241m=\u001b[39m workspace\u001b[38;5;241m.\u001b[39mget_targets(\u001b[38;5;124m\"\u001b[39m\u001b[38;5;124mquantinuum.sim.h1-1sc\u001b[39m\u001b[38;5;124m\"\u001b[39m)\n\u001b[0;32m     13\u001b[0m job \u001b[38;5;241m=\u001b[39m target\u001b[38;5;241m.\u001b[39msubmit(operation, \u001b[38;5;124m\"\u001b[39m\u001b[38;5;124mgrover\u001b[39m\u001b[38;5;124m'\u001b[39m\u001b[38;5;124ms\u001b[39m\u001b[38;5;124m\"\u001b[39m, shots\u001b[38;5;241m=\u001b[39m\u001b[38;5;241m1\u001b[39m)\n",
      "File \u001b[1;32mc:\\Users\\22509617\\MQIT-Portable\\environment-MQIT-Portable\\mqit\\mqit-env\\lib\\site-packages\\qsharp\\_qsharp.py:611\u001b[0m, in \u001b[0;36mcompile\u001b[1;34m(entry_expr, *args)\u001b[0m\n\u001b[0;32m    607\u001b[0m     ll_str \u001b[38;5;241m=\u001b[39m get_interpreter()\u001b[38;5;241m.\u001b[39mqir(\n\u001b[0;32m    608\u001b[0m         entry_expr\u001b[38;5;241m=\u001b[39m\u001b[38;5;28;01mNone\u001b[39;00m, \u001b[38;5;28mcallable\u001b[39m\u001b[38;5;241m=\u001b[39mentry_expr\u001b[38;5;241m.\u001b[39m__global_callable, args\u001b[38;5;241m=\u001b[39margs\n\u001b[0;32m    609\u001b[0m     )\n\u001b[0;32m    610\u001b[0m \u001b[38;5;28;01melse\u001b[39;00m:\n\u001b[1;32m--> 611\u001b[0m     ll_str \u001b[38;5;241m=\u001b[39m \u001b[43mget_interpreter\u001b[49m\u001b[43m(\u001b[49m\u001b[43m)\u001b[49m\u001b[38;5;241;43m.\u001b[39;49m\u001b[43mqir\u001b[49m\u001b[43m(\u001b[49m\u001b[43mentry_expr\u001b[49m\u001b[38;5;241;43m=\u001b[39;49m\u001b[43mentry_expr\u001b[49m\u001b[43m)\u001b[49m\n\u001b[0;32m    612\u001b[0m res \u001b[38;5;241m=\u001b[39m QirInputData(\u001b[38;5;124m\"\u001b[39m\u001b[38;5;124mmain\u001b[39m\u001b[38;5;124m\"\u001b[39m, ll_str)\n\u001b[0;32m    613\u001b[0m durationMs \u001b[38;5;241m=\u001b[39m (monotonic() \u001b[38;5;241m-\u001b[39m start) \u001b[38;5;241m*\u001b[39m \u001b[38;5;241m1000\u001b[39m\n",
      "\u001b[1;31mQSharpError\u001b[0m: Qsc.Resolve.NotFound\n\n  x name error\n  `-> `grovers.RunProgram` not found\n   ,-[<entry>:1:1]\n 1 | grovers.RunProgram()\n   : ^^^^^^^^^^^^^^^^^^\n   `----\nQsc.TypeCk.AmbiguousTy\n\n  x type error\n  `-> insufficient type information to infer type\n   ,-[<entry>:1:1]\n 1 | grovers.RunProgram()\n   : ^^^^^^^^^^^^^^^^^^^^\n   `----\n  help: provide a type annotation\n"
     ]
    }
   ],
   "source": [
    "import azure.quantum\n",
    "\n",
    "workspace = azure.quantum.Workspace(\n",
    "    subscription_id=subscription_id,\n",
    "    resource_group=resource_group,\n",
    "    name=workspace_name,\n",
    "    location=location,\n",
    ")\n",
    "\n",
    "operation = qsharp.compile(\"grovers.RunProgram()\")\n",
    "\n",
    "target = workspace.get_targets(\"quantinuum.sim.h1-1sc\")\n",
    "job = target.submit(operation, \"grover's\", shots=1)"
   ]
  },
  {
   "cell_type": "code",
   "execution_count": null,
   "id": "cdd67c8d",
   "metadata": {},
   "outputs": [],
   "source": [
    "job.get_results()"
   ]
  }
 ],
 "metadata": {
  "kernelspec": {
   "display_name": "mqit_kernel",
   "language": "python",
   "name": "mqit_kernel"
  },
  "language_info": {
   "codemirror_mode": {
    "name": "ipython",
    "version": 3
   },
   "file_extension": ".py",
   "mimetype": "text/x-python",
   "name": "python",
   "nbconvert_exporter": "python",
   "pygments_lexer": "ipython3",
   "version": "3.9.5"
  }
 },
 "nbformat": 4,
 "nbformat_minor": 5
}
